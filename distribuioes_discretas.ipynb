{
  "nbformat": 4,
  "nbformat_minor": 0,
  "metadata": {
    "colab": {
      "provenance": [],
      "authorship_tag": "ABX9TyNk5C/HFizmTEMogoHVITlT",
      "include_colab_link": true
    },
    "kernelspec": {
      "name": "python3",
      "display_name": "Python 3"
    },
    "language_info": {
      "name": "python"
    }
  },
  "cells": [
    {
      "cell_type": "markdown",
      "metadata": {
        "id": "view-in-github",
        "colab_type": "text"
      },
      "source": [
        "<a href=\"https://colab.research.google.com/github/Bruno-TMS/python_tutoriais/blob/main/distribuioes_discretas.ipynb\" target=\"_parent\"><img src=\"https://colab.research.google.com/assets/colab-badge.svg\" alt=\"Open In Colab\"/></a>"
      ]
    },
    {
      "cell_type": "markdown",
      "source": [
        "Distribuição binomial\n",
        "\n",
        "Distribuição binomial é uma distribuição de probabilidade discreta(números inteiros) que nos ajuda a lidar com experimentos que possuam dois resultados possíveis: sucesso ou fracasso.\n",
        "\n",
        "Número de experimentos (n)\n",
        "\n",
        "Probabilidade de sucesso(p)\n",
        "\n",
        "Número de sucessos(k)"
      ],
      "metadata": {
        "id": "y0YC8jhRn7mu"
      }
    },
    {
      "cell_type": "code",
      "source": [
        "import numpy as np\n",
        "import scipy.stats as sct\n",
        "import matplotlib.pyplot as plt"
      ],
      "metadata": {
        "id": "agLE6AYoomdp"
      },
      "execution_count": null,
      "outputs": []
    },
    {
      "cell_type": "code",
      "source": [
        "tentativas = 100\n",
        "p = 1/100\n",
        "indice_k = np.arange(tentativas +  1)"
      ],
      "metadata": {
        "id": "vcBiJXIJpZvN"
      },
      "execution_count": null,
      "outputs": []
    },
    {
      "cell_type": "code",
      "source": [
        "indice_k"
      ],
      "metadata": {
        "colab": {
          "base_uri": "https://localhost:8080/"
        },
        "id": "C7jswf0Rp8vZ",
        "outputId": "4948d508-91cf-4476-d970-59803322c1c7"
      },
      "execution_count": null,
      "outputs": [
        {
          "output_type": "execute_result",
          "data": {
            "text/plain": [
              "array([  0,   1,   2,   3,   4,   5,   6,   7,   8,   9,  10,  11,  12,\n",
              "        13,  14,  15,  16,  17,  18,  19,  20,  21,  22,  23,  24,  25,\n",
              "        26,  27,  28,  29,  30,  31,  32,  33,  34,  35,  36,  37,  38,\n",
              "        39,  40,  41,  42,  43,  44,  45,  46,  47,  48,  49,  50,  51,\n",
              "        52,  53,  54,  55,  56,  57,  58,  59,  60,  61,  62,  63,  64,\n",
              "        65,  66,  67,  68,  69,  70,  71,  72,  73,  74,  75,  76,  77,\n",
              "        78,  79,  80,  81,  82,  83,  84,  85,  86,  87,  88,  89,  90,\n",
              "        91,  92,  93,  94,  95,  96,  97,  98,  99, 100])"
            ]
          },
          "metadata": {},
          "execution_count": 23
        }
      ]
    },
    {
      "cell_type": "code",
      "source": [
        "probabilidades = sct.binom.pmf(indice_k, tentativas, p)"
      ],
      "metadata": {
        "id": "cD4SrWj9qQ0O"
      },
      "execution_count": null,
      "outputs": []
    },
    {
      "cell_type": "code",
      "source": [
        "# prompt: crie exemplos de como usar o pmf e quando deve usar\n",
        "\n",
        "import numpy as np\n",
        "import scipy.stats as sct\n",
        "import matplotlib.pyplot as plt\n",
        "\n",
        "# Distribuição binomial\n",
        "#\n",
        "# Distribuição binomial é uma distribuição de probabilidade discreta(números inteiros) que nos ajuda a lidar com experimentos que possuam dois resultados possíveis: sucesso ou fracasso.\n",
        "#\n",
        "# Número de experimentos (n)\n",
        "#\n",
        "# Probabilidade de sucesso(p)\n",
        "#\n",
        "# Número de sucessos(k)\n",
        "tentativas = 100\n",
        "p = 1/100\n",
        "indice_k = np.arange(tentativas +  1)\n",
        "indice_k\n",
        "probabilidades = sct.binom.pmf(indice_k, tentativas, p)\n",
        "\n",
        "# Exemplo 1: Probabilidade de obter exatamente 5 caras em 10 lançamentos de uma moeda justa.\n",
        "n = 10  # Número de lançamentos\n",
        "k = 5  # Número de caras\n",
        "p = 0.5  # Probabilidade de cara em um único lançamento\n",
        "\n",
        "probabilidade = sct.binom.pmf(k, n, p)\n",
        "print(f\"Probabilidade de obter exatamente {k} caras em {n} lançamentos: {probabilidade:.2%}\")\n",
        "\n",
        "# Exemplo 2: Probabilidade de no mínimo 2 defeitos em 20 itens, sendo que a probabilidade de um item ser defeituoso é de 0.1.\n",
        "n = 20\n",
        "k = np.arange(2, 21) # pelo menos 2 defeitos significa de 2 até 20\n",
        "p = 0.1\n",
        "\n",
        "probabilidade = np.sum(sct.binom.pmf(k,n,p)) # soma as probabilidades de 2 a 20\n",
        "print(f\"Probabilidade de pelo menos 2 defeitos em {n} itens: {probabilidade:.2%}\")\n",
        "\n",
        "# Exemplo 3:  Probabilidade de obter menos de 3 sucessos em 5 tentativas, sabendo que a chance de sucesso em uma tentativa é 0.2.\n",
        "n = 5\n",
        "k = np.arange(3) # de 0 a 2 (menos que 3)\n",
        "p = 0.2\n",
        "\n",
        "probabilidade = np.sum(sct.binom.pmf(k,n,p)) #soma das probabilidades\n",
        "print(f\"Probabilidade de menos de 3 sucessos em {n} tentativas: {probabilidade:.2%}\")\n",
        "\n",
        "\n",
        "# Quando usar a PMF:\n",
        "\n",
        "# 1. Variável aleatória discreta: A PMF é usada para variáveis aleatórias discretas, como o número de caras em lançamentos de moedas, o número de defeitos em um lote de produtos ou o número de carros que passam por um determinado ponto em uma hora.\n",
        "# 2. Probabilidade de um evento específico: A PMF calcula a probabilidade de um evento específico ocorrer. Por exemplo, a probabilidade de obter exatamente 3 caras em 5 lançamentos de moedas.  Não calcula a probabilidade de um intervalo.\n",
        "# 3. Distribuição de probabilidade conhecida: Você precisa saber a distribuição de probabilidade da variável aleatória (ex: Binomial, Poisson, etc) para usar a PMF.\n",
        "\n",
        "# Resumindo: Utilize a PMF quando precisar calcular a probabilidade de uma variável aleatória discreta assumir um valor específico, e quando a distribuição de probabilidade dessa variável é conhecida."
      ],
      "metadata": {
        "colab": {
          "base_uri": "https://localhost:8080/"
        },
        "id": "ynTW7z2jubMY",
        "outputId": "e5f203c3-2052-4deb-c631-36101f329ab5"
      },
      "execution_count": null,
      "outputs": [
        {
          "output_type": "stream",
          "name": "stdout",
          "text": [
            "Probabilidade de obter exatamente 5 caras em 10 lançamentos: 24.61%\n",
            "Probabilidade de pelo menos 2 defeitos em 20 itens: 60.83%\n",
            "Probabilidade de menos de 3 sucessos em 5 tentativas: 94.21%\n"
          ]
        }
      ]
    },
    {
      "cell_type": "code",
      "source": [],
      "metadata": {
        "id": "p1qv8xEkxBwS"
      },
      "execution_count": null,
      "outputs": []
    },
    {
      "cell_type": "code",
      "source": [
        "# prompt: Por que em umas usou o np.sum() e na outra não? Responda em portugues\n",
        "\n",
        "A função `np.sum()` é usada quando se deseja calcular a probabilidade de um *intervalo* de valores para uma variável aleatória discreta, em vez de um único valor.\n",
        "\n",
        "Nos exemplos onde a probabilidade de \"pelo menos 2 defeitos\" ou \"menos de 3 sucessos\" são calculadas, a probabilidade não é para um único valor de `k`. No primeiro caso, é a soma das probabilidades de 2, 3, 4... até 20 defeitos. No segundo caso, é a soma das probabilidades de 0, 1 e 2 sucessos.  Como são vários valores de `k` que devem ser considerados, a função `np.sum()` soma as probabilidades individuais calculadas pela `sct.binom.pmf()` para cada valor de `k` no intervalo desejado.\n",
        "\n",
        "Já nos exemplos onde se calcula a probabilidade de um número *exato* de caras ou defeitos (um valor específico de `k`), a `sct.binom.pmf()` já retorna diretamente a probabilidade para aquele valor, não sendo necessário somar várias probabilidades.  Portanto, `np.sum()` não é necessário nesses casos.\n"
      ],
      "metadata": {
        "colab": {
          "base_uri": "https://localhost:8080/"
        },
        "id": "F7imA2_JwJUZ",
        "outputId": "3781ab43-a3c2-4cc6-d516-29838e771f6a"
      },
      "execution_count": null,
      "outputs": [
        {
          "output_type": "stream",
          "name": "stdout",
          "text": [
            "Object `não` not found.\n"
          ]
        }
      ]
    },
    {
      "cell_type": "code",
      "source": [
        "# prompt: explique cada método do binom, com exemplos simples e destacando a diferença de quando se deve utilizar cada um\n",
        "\n",
        "import numpy as np\n",
        "import scipy.stats as sct\n",
        "\n",
        "# A função `sct.binom.pmf(k, n, p)` calcula a probabilidade de massa (PMF) da distribuição binomial.\n",
        "# Ela retorna a probabilidade de obter exatamente k sucessos em n tentativas, com uma probabilidade de sucesso p em cada tentativa.\n",
        "\n",
        "# Exemplo 1: Probabilidade de obter exatamente 3 caras em 5 lançamentos de moeda (p=0.5)\n",
        "n = 5\n",
        "k = 3\n",
        "p = 0.5\n",
        "probabilidade = sct.binom.pmf(k, n, p)\n",
        "print(f\"Probabilidade de 3 caras em 5 lançamentos: {probabilidade}\")\n",
        "\n",
        "# Diferença entre usar e não usar np.sum():\n",
        "\n",
        "# Sem np.sum(): Usado quando queremos a probabilidade de um valor específico de k.\n",
        "\n",
        "# Com np.sum(): Usado para calcular a probabilidade de um intervalo de valores de k.\n",
        "\n",
        "# Exemplo 2: Probabilidade de obter pelo menos 2 caras em 5 lançamentos\n",
        "n = 5\n",
        "p = 0.5\n",
        "k_valores = np.arange(2, 6) # valores de k de 2 a 5 (pelo menos 2)\n",
        "probabilidades = sct.binom.pmf(k_valores, n, p)\n",
        "probabilidade_total = np.sum(probabilidades) # soma as probabilidades para k=2,3,4,5\n",
        "print(f\"Probabilidade de pelo menos 2 caras em 5 lançamentos: {probabilidade_total}\")\n",
        "\n",
        "# Exemplo 3: Probabilidade de no máximo 2 caras em 5 lançamentos\n",
        "n = 5\n",
        "p = 0.5\n",
        "k_valores = np.arange(3) # valores de k de 0 a 2 (no máximo 2)\n",
        "probabilidades = sct.binom.pmf(k_valores, n, p)\n",
        "probabilidade_total = np.sum(probabilidades)  # soma as probabilidades para k=0,1,2\n",
        "print(f\"Probabilidade de no máximo 2 caras em 5 lançamentos: {probabilidade_total}\")\n",
        "\n",
        "# Outros métodos da distribuição binomial:\n",
        "\n",
        "# 1. sct.binom.cdf(k, n, p): Função de distribuição cumulativa (CDF). Retorna a probabilidade de obter k ou menos sucessos.\n",
        "# Exemplo: Probabilidade de obter no máximo 2 caras em 5 lançamentos\n",
        "probabilidade_cdf = sct.binom.cdf(2, n, p)\n",
        "print(f\"Probabilidade de no máximo 2 caras em 5 lançamentos (CDF): {probabilidade_cdf}\")\n",
        "\n",
        "# 2. sct.binom.sf(k, n, p): Função de sobrevivência (SF). Retorna a probabilidade de obter mais de k sucessos.\n",
        "# Exemplo: Probabilidade de obter mais de 2 caras em 5 lançamentos\n",
        "probabilidade_sf = sct.binom.sf(2, n, p)\n",
        "print(f\"Probabilidade de mais de 2 caras em 5 lançamentos (SF): {probabilidade_sf}\")\n",
        "\n",
        "# 3. sct.binom.ppf(q, n, p): Função percentual inversa (PPF) ou quantil. Retorna o valor de k para o qual a probabilidade acumulada é q.\n",
        "# Exemplo: Encontrar o número mínimo de caras para que a probabilidade acumulada seja 0.9\n",
        "k_ppf = sct.binom.ppf(0.9, n, p) #valor de k\n",
        "print(f\"Número mínimo de caras para probabilidade acumulada de 0.9: {k_ppf}\")\n",
        "\n",
        "# 4. sct.binom.isf(q, n, p): Função inversa de sobrevivência (ISF). Retorna o valor mínimo de k para o qual a probabilidade de ter mais de k é q.\n",
        "# Exemplo: Encontrar o valor mínimo de k com uma probabilidade de 0.1 de se ter mais que k caras em 5 lançamentos.\n",
        "k_isf = sct.binom.isf(0.1, n, p) #valor de k\n",
        "print(f\"Valor mínimo de k para probabilidade de 0.1 de ter mais de k caras: {k_isf}\")"
      ],
      "metadata": {
        "colab": {
          "base_uri": "https://localhost:8080/"
        },
        "id": "US9DpJmUyfOE",
        "outputId": "2a6816d7-8642-4648-ae92-3836b747c34c"
      },
      "execution_count": null,
      "outputs": [
        {
          "output_type": "stream",
          "name": "stdout",
          "text": [
            "Probabilidade de 3 caras em 5 lançamentos: 0.31249999999999983\n",
            "Probabilidade de pelo menos 2 caras em 5 lançamentos: 0.8124999999999997\n",
            "Probabilidade de no máximo 2 caras em 5 lançamentos: 0.4999999999999998\n",
            "Probabilidade de no máximo 2 caras em 5 lançamentos (CDF): 0.5\n",
            "Probabilidade de mais de 2 caras em 5 lançamentos (SF): 0.5\n",
            "Número mínimo de caras para probabilidade acumulada de 0.9: 4.0\n",
            "Valor mínimo de k para probabilidade de 0.1 de ter mais de k caras: 4.0\n"
          ]
        }
      ]
    },
    {
      "cell_type": "code",
      "source": [
        "# prompt: então podemos para todos os exemplos usar o pmf ?\n",
        "\n",
        "# A função pmf (probability mass function) é adequada para calcular a probabilidade de um evento específico ocorrer em uma distribuição discreta como a binomial.  Ela retorna a probabilidade de um valor específico de k.\n",
        "\n",
        "\n",
        "# Quando você precisa da probabilidade de um intervalo de valores (por exemplo, \"pelo menos 2\", \"no máximo 3\"), você precisa somar os resultados da pmf para cada valor dentro desse intervalo, utilizando a função np.sum(), como demonstrado nos exemplos anteriores.\n",
        "\n",
        "# Em resumo:\n",
        "\n",
        "# - Use a pmf para um valor específico de k.\n",
        "# - Use np.sum(pmf(...)) para um intervalo de valores de k."
      ],
      "metadata": {
        "id": "pv7pkP8Kzjwc"
      },
      "execution_count": null,
      "outputs": []
    },
    {
      "cell_type": "code",
      "source": [
        "# prompt: Use a pmf para um valor específico de k.\n",
        "#  Use np.sum(pmf(...)) para um intervalo de valores de k.\n",
        "# Podem subistituir os outros métodos do binom?\n",
        "\n",
        "import numpy as np\n",
        "import scipy.stats as sct\n",
        "\n",
        "# ... (rest of your existing code)\n",
        "\n",
        "# A função pmf (probability mass function) é adequada para calcular a probabilidade de um evento específico ocorrer em uma distribuição discreta como a binomial.  Ela retorna a probabilidade de um valor específico de k.\n",
        "\n",
        "\n",
        "# Quando você precisa da probabilidade de um intervalo de valores (por exemplo, \"pelo menos 2\", \"no máximo 3\"), você precisa somar os resultados da pmf para cada valor dentro desse intervalo, utilizando a função np.sum(), como demonstrado nos exemplos anteriores.\n",
        "\n",
        "# Em resumo:\n",
        "\n",
        "# - Use a pmf para um valor específico de k.\n",
        "# - Use np.sum(pmf(...)) para um intervalo de valores de k."
      ],
      "metadata": {
        "id": "J81ErJEiz1df"
      },
      "execution_count": null,
      "outputs": []
    },
    {
      "cell_type": "markdown",
      "source": [
        "Distribuição Geométrica - Número de tentativas até o primeiro sucesso"
      ],
      "metadata": {
        "id": "RIuuQDmjErRX"
      }
    },
    {
      "cell_type": "code",
      "source": [
        "# prompt: crie um exemplo da distribuição geométrica  - Número de tentativas até o primeiro sucesso. Sendo, Sabendo que a probabilidade de sucesso é de 0.5(p), qual a probabilidade da primeira venda ocorrer quando o quinto(x) cliente entrar na loja\n",
        "\n",
        "import numpy as np\n",
        "import scipy.stats as sct\n",
        "\n",
        "# Probabilidade de sucesso (p)\n",
        "p = 0.5\n",
        "\n",
        "# Número de tentativas até o primeiro sucesso (x)\n",
        "x = 5\n",
        "\n",
        "# Calculando a probabilidade da primeira venda ocorrer na quinta tentativa\n",
        "probabilidade = sct.geom.pmf(5, p)\n",
        "\n",
        "print(fzz"
      ],
      "metadata": {
        "colab": {
          "base_uri": "https://localhost:8080/"
        },
        "id": "hdHsp9IK-2cd",
        "outputId": "d55be484-e8f2-4a74-94a7-d642d19651ed"
      },
      "execution_count": 2,
      "outputs": [
        {
          "output_type": "stream",
          "name": "stdout",
          "text": [
            "A probabilidade da primeira venda ocorrer quando o quinto cliente entrar na loja é: 0.0312\n"
          ]
        }
      ]
    },
    {
      "cell_type": "code",
      "source": [
        "# prompt: crie um exemplo de Distribuição Binomial Negativa. - É uma generalização da distribuição geométrica. Número de tentativas até que uma quantidade de sucessos ocorra.\n",
        "\n",
        "# Distribuição Binomial Negativa\n",
        "\n",
        "# Número de tentativas até r sucessos\n",
        "r = 5  # Número de sucessos desejados\n",
        "p = 0.3  # Probabilidade de sucesso em cada tentativa\n",
        "n = 10 # Número de tentativas\n",
        "\n",
        "# Calculando a probabilidade de obter o 5º sucesso na 10ª tentativa\n",
        "probabilidade = sct.nbinom.pmf(n - r, r, p) # n - r representa o número de fracassos antes do r-ésimo sucesso\n",
        "print(f\"Probabilidade de obter o {r}º sucesso na {n}ª tentativa: {probabilidade:.4f}\")\n",
        "\n",
        "\n",
        "# Exemplo 2: Probabilidade de obter 5 caras em 12 lançamentos (Distribuição Binomial)\n",
        "n = 12\n",
        "k = 5\n",
        "p = 0.5\n",
        "\n",
        "prob_binomial = sct.binom.pmf(k, n, p)\n",
        "print(f\"Probabilidade de obter exatamente {k} caras em {n} lançamentos (Binomial): {prob_binomial:.4f}\")\n",
        "\n",
        "\n",
        "# Comparação entre Distribuição Binomial Negativa e Geométrica\n",
        "# A distribuição geométrica é um caso especial da distribuição binomial negativa onde r = 1 (primeiro sucesso).\n",
        "r = 1 # primeiro sucesso\n",
        "p = 0.5\n",
        "n = 5 # 5 tentativas\n",
        "prob_geometrica = sct.nbinom.pmf(n-r,r,p)\n",
        "print(f\"Probabilidade de obter o primeiro sucesso na quinta tentativa (Geométrica): {prob_geometrica:.4f}\")"
      ],
      "metadata": {
        "colab": {
          "base_uri": "https://localhost:8080/"
        },
        "id": "pDspn_PtO1QU",
        "outputId": "9ad6cf77-8362-47d2-8e11-e7f4c53e431d"
      },
      "execution_count": 3,
      "outputs": [
        {
          "output_type": "stream",
          "name": "stdout",
          "text": [
            "Probabilidade de obter o 5º sucesso na 10ª tentativa: 0.0515\n",
            "Probabilidade de obter exatamente 5 caras em 12 lançamentos (Binomial): 0.1934\n",
            "Probabilidade de obter o primeiro sucesso na quinta tentativa (Geométrica): 0.0313\n"
          ]
        }
      ]
    },
    {
      "cell_type": "markdown",
      "source": [],
      "metadata": {
        "id": "UIGyzznkQOE6"
      }
    },
    {
      "cell_type": "markdown",
      "source": [
        "Distribuição de Poisson - Expressa a probabilidade de um evento ou uma seéride eventos ocorrerem em determinado período de tempo."
      ],
      "metadata": {
        "id": "NhS_qAuOQPwy"
      }
    },
    {
      "cell_type": "code",
      "source": [],
      "metadata": {
        "id": "mLJ970O6QE57"
      },
      "execution_count": null,
      "outputs": []
    },
    {
      "cell_type": "code",
      "source": [
        "# prompt: Uma loja recebe em média. 6 clientes por minuto. Qual a probabilidade de que 5(x) clientes entrem em um minuto\n",
        "\n",
        "# Número médio de clientes por minuto (lambda)\n",
        "lambd = 6\n",
        "\n",
        "# Número de clientes desejado (x)\n",
        "x = 5\n",
        "\n",
        "# Calculando a probabilidade usando a distribuição de Poisson\n",
        "probabilidade = sct.poisson.pmf(x, lambd)\n",
        "\n",
        "print(f\"A probabilidade de {x} clientes entrarem em um minuto é: {probabilidade:.4f}\")"
      ],
      "metadata": {
        "colab": {
          "base_uri": "https://localhost:8080/"
        },
        "id": "g0WCe2RGPfar",
        "outputId": "5ad2a7f7-49de-483f-efeb-e93498d789d3"
      },
      "execution_count": 4,
      "outputs": [
        {
          "output_type": "stream",
          "name": "stdout",
          "text": [
            "A probabilidade de 5 clientes entrarem em um minuto é: 0.1606\n"
          ]
        }
      ]
    },
    {
      "cell_type": "code",
      "source": [
        "# prompt: Uma loja recebe em média. 6 clientes por minuto. Qual a probabilidade de que até 2 clientes entrem em um minuto\n",
        "\n",
        "import scipy.stats as sct\n",
        "\n",
        "# Número médio de clientes por minuto (lambda)\n",
        "lambd = 6\n",
        "\n",
        "# Número de clientes desejado (x) - até 2 clientes\n",
        "k_valores = [0, 1, 2]\n",
        "\n",
        "# Calculando a probabilidade usando a distribuição de Poisson\n",
        "probabilidade = sum(sct.poisson.pmf(k, lambd) for k in k_valores)\n",
        "\n",
        "print(f\"A probabilidade de até 2 clientes entrarem em um minuto é: {probabilidade:.5f}\")"
      ],
      "metadata": {
        "colab": {
          "base_uri": "https://localhost:8080/"
        },
        "id": "jdOQIkanPfcT",
        "outputId": "e18c6e38-bc47-4811-8e90-80c061bed30e"
      },
      "execution_count": 1,
      "outputs": [
        {
          "output_type": "stream",
          "name": "stdout",
          "text": [
            "A probabilidade de até 2 clientes entrarem em um minuto é: 0.06197\n"
          ]
        }
      ]
    },
    {
      "cell_type": "code",
      "source": [
        "#Uma loja recebe em média, 6(lambda), clientes por minuto. Qual a propabilidade de que 3(x) clientes ou mais em 1 minuto?\n",
        "\n",
        "import scipy.stats as sct\n",
        "import numpy as np\n",
        "\n",
        "lambd = 6\n",
        "\n",
        "#número de clientes deseado (x) - até 2 clientes\n",
        "k_valores = np.arange(3)\n",
        "print(k_valores)\n",
        "\n",
        "#calculando a probabilidade usando a distribuição de Poisson\n",
        "probabilidade = sum(sct.poisson.pmf(k, lambd) for k in k_valores)\n",
        "\n",
        "print(f\"A probabilidade de 3 ou mais clientes entrarem em um minuto é: {1-probabilidade:.5f}\")"
      ],
      "metadata": {
        "colab": {
          "base_uri": "https://localhost:8080/"
        },
        "id": "oXZtoLQx5GNd",
        "outputId": "7844eeea-146a-4475-829b-21a8eb0f0832"
      },
      "execution_count": 9,
      "outputs": [
        {
          "output_type": "stream",
          "name": "stdout",
          "text": [
            "[0 1 2]\n",
            "A probabilidade de 3 ou mais clientes entrarem em um minuto é: 0.93803\n"
          ]
        }
      ]
    },
    {
      "cell_type": "code",
      "source": [],
      "metadata": {
        "id": "2Bn3EKgK5UOp"
      },
      "execution_count": 3,
      "outputs": []
    }
  ]
}